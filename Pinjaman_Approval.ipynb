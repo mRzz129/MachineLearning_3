{
  "nbformat": 4,
  "nbformat_minor": 0,
  "metadata": {
    "colab": {
      "provenance": []
    },
    "kernelspec": {
      "name": "python3",
      "display_name": "Python 3"
    },
    "language_info": {
      "name": "python"
    }
  },
  "cells": [
    {
      "cell_type": "code",
      "execution_count": 1,
      "metadata": {
        "colab": {
          "base_uri": "https://localhost:8080/"
        },
        "id": "OY5SwqKNnu3H",
        "outputId": "b9575906-f30e-4a43-c611-fa29e795e201"
      },
      "outputs": [
        {
          "output_type": "stream",
          "name": "stdout",
          "text": [
            "Akurasi 0.0\n",
            "Menampilkan Hasil Prediksi\n",
            "Data test 1: Prediction Terima\n"
          ]
        }
      ],
      "source": [
        "from sklearn.neighbors import KNeighborsClassifier\n",
        "# data\n",
        "X_train = [[40,5,60], [50,8,40], [50,7,30], [70,4,60], [80,4,80], [60,6,60]]\n",
        "y_train = ['Tolak','Terima','Tolak','Terima','Terima','Terima']\n",
        "\n",
        "# Inisialisasi model knn dengan jumlah tentangg/k = 3\n",
        "knn = KNeighborsClassifier(n_neighbors=5)\n",
        "\n",
        "# Melatih Model Dengan Data Traning\n",
        "knn.fit(X_train, y_train)\n",
        "\n",
        "# Data Test\n",
        "X_test = [[50,3,40]]\n",
        "y_test = ['Tolak'] # lebel yg seharusnya di dapatkan dalam model prediksi\n",
        "\n",
        "# Melakukan Prediksi dengan model yg sudah di latih\n",
        "pred = knn.predict(X_test)\n",
        "\n",
        "# melakukan Evaluasi Model\n",
        "accuracy = knn.score(X_test, y_test)\n",
        "print(\"Akurasi\", accuracy)\n",
        "\n",
        "print(\"Menampilkan Hasil Prediksi\")\n",
        "for i, pred in enumerate(pred):\n",
        "  print(f\"Data test {i+1}: Prediction {pred}\")"
      ]
    }
  ]
}
